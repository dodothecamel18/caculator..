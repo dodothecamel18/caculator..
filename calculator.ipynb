{
  "nbformat": 4,
  "nbformat_minor": 0,
  "metadata": {
    "colab": {
      "name": "calculator.ipynb",
      "provenance": []
    },
    "kernelspec": {
      "name": "python3",
      "display_name": "Python 3"
    },
    "language_info": {
      "name": "python"
    }
  },
  "cells": [
    {
      "cell_type": "code",
      "execution_count": 1,
      "metadata": {
        "colab": {
          "base_uri": "https://localhost:8080/"
        },
        "id": "77WyQuDImzUQ",
        "outputId": "b35ed61e-bd5a-495a-98f4-25387ba7d881"
      },
      "outputs": [
        {
          "output_type": "stream",
          "name": "stdout",
          "text": [
            "Enter your first number\n",
            "5445454545\n",
            "Enter your second number\n",
            "67676767\n",
            "1 Addition\n",
            "2 Subttraction\n",
            "3 division\n",
            "4 multiplication\n",
            "1\n",
            "a + b 5513131312\n"
          ]
        }
      ],
      "source": [
        "print(\"Enter your first number\")\n",
        "a=int(input())\n",
        "print(\"Enter your second number\")\n",
        "b=int(input())\n",
        "\n",
        "print(\"1 Addition\")\n",
        "\n",
        "print(\"2 Subttraction\")\n",
        "\n",
        "print(\"3 division\")\n",
        "\n",
        "print(\"4 multiplication\")\n",
        "\n",
        "x=int (input())\n",
        "\n",
        "\n",
        "\n",
        "if x == 1:\n",
        "    print(\"a + b\" ,a+b) \n",
        "elif x == 2:\n",
        "    print(\"a - b\",a-b)\n",
        "elif x == 3:\n",
        "    print(\"a / b\" , a/b)\n",
        "elif x == 4:\n",
        "    print(\"a * b\" ,a*b)\n",
        "else:\n",
        "    print(\"try again\")\n"
      ]
    }
  ]
}